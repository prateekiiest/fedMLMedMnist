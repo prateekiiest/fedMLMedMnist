{
 "cells": [
  {
   "cell_type": "code",
   "execution_count": 1,
   "metadata": {},
   "outputs": [
    {
     "name": "stdout",
     "output_type": "stream",
     "text": [
      "Loading greedyList... 3.314018249511719e-05\n"
     ]
    }
   ],
   "source": [
    "import numpy as np\n",
    "import pandas as pd\n",
    "import time\n",
    "\n",
    "start_time = time.time()\n",
    "print('Loading greedyList...', time.time() - start_time)"
   ]
  },
  {
   "cell_type": "code",
   "execution_count": 2,
   "metadata": {},
   "outputs": [
    {
     "name": "stdout",
     "output_type": "stream",
     "text": [
      "   selected_image_indices     value\n",
      "0                    8999  0.693147\n",
      "1                    4675  0.434787\n",
      "2                     356  0.328253\n",
      "3                    5274  0.269756\n",
      "4                    5943  0.229148 0.9391820430755615\n"
     ]
    }
   ],
   "source": [
    "greedyList = np.load('greedyList_9000.npy')\n",
    "greedyList = pd.DataFrame(greedyList, columns=['selected_image_indices', 'value'])\n",
    "\n",
    "greedyList = greedyList.astype({'selected_image_indices': 'Int32', 'value': 'Float32'})\n",
    "print(greedyList.head(), time.time() - start_time)"
   ]
  },
  {
   "cell_type": "code",
   "execution_count": 3,
   "metadata": {},
   "outputs": [
    {
     "name": "stdout",
     "output_type": "stream",
     "text": [
      "900\n"
     ]
    }
   ],
   "source": [
    "print(len(greedyList))"
   ]
  },
  {
   "cell_type": "code",
   "execution_count": 4,
   "metadata": {},
   "outputs": [
    {
     "name": "stdout",
     "output_type": "stream",
     "text": [
      "Loading ground data... 10.591084957122803\n",
      "0    Normal-6346.png\n",
      "1    Normal-1100.png\n",
      "2    Normal-4469.png\n",
      "3    Normal-9208.png\n",
      "4     Normal-233.png\n",
      "Name: image_names, dtype: object 47.176488161087036\n"
     ]
    }
   ],
   "source": [
    "print('Loading ground data...', time.time() - start_time)\n",
    "groundData = pd.read_excel('img_features_lake_9000.xlsx')\n",
    "\n",
    "image_names = groundData['image_names']\n",
    "print(image_names.head(), time.time() - start_time)"
   ]
  },
  {
   "cell_type": "code",
   "execution_count": 5,
   "metadata": {},
   "outputs": [
    {
     "name": "stdout",
     "output_type": "stream",
     "text": [
      "0    8999\n",
      "1    4675\n",
      "2     356\n",
      "3    5274\n",
      "4    5943\n",
      "Name: selected_image_indices, dtype: Int32 52.43601584434509\n"
     ]
    }
   ],
   "source": [
    "selected_image_idxs = greedyList[greedyList.columns[0]]\n",
    "print(selected_image_idxs.head(), time.time() - start_time)"
   ]
  },
  {
   "cell_type": "code",
   "execution_count": 6,
   "metadata": {},
   "outputs": [
    {
     "name": "stdout",
     "output_type": "stream",
     "text": [
      "['Lung_Opacity-3448.png', 'COVID-1487.png', 'Normal-1329.png', 'COVID-698.png', 'COVID-447.png', 'COVID-1467.png', 'Normal-1133.png', 'COVID-1402.png', 'Normal-349.png', 'COVID-3615.png', 'Lung_Opacity-530.png', 'Normal-244.png', 'COVID-2216.png', 'COVID-556.png', 'COVID-1288.png', 'Normal-694.png', 'COVID-1672.png', 'Lung_Opacity-266.png', 'COVID-1673.png', 'Normal-121.png', 'COVID-780.png', 'Lung_Opacity-4616.png', 'Normal-635.png', 'COVID-1477.png', 'Lung_Opacity-4291.png', 'COVID-1213.png', 'Normal-7555.png', 'COVID-257.png', 'COVID-1815.png', 'COVID-1662.png', 'COVID-1523.png', 'Normal-1378.png', 'Normal-7730.png', 'COVID-1276.png', 'Normal-8053.png', 'Normal-486.png', 'COVID-1212.png', 'Normal-134.png', 'COVID-1186.png', 'COVID-239.png', 'Lung_Opacity-5087.png', 'COVID-2082.png', 'COVID-1512.png', 'Normal-198.png', 'Normal-8792.png', 'COVID-1837.png', 'COVID-1630.png', 'Normal-1327.png', 'COVID-949.png', 'Lung_Opacity-5638.png', 'Normal-405.png', 'COVID-2090.png', 'Lung_Opacity-5105.png', 'Lung_Opacity-3785.png', 'COVID-1279.png', 'Normal-3910.png', 'Normal-8316.png', 'COVID-1612.png', 'COVID-1699.png', 'Normal-1005.png', 'Lung_Opacity-1558.png', 'Normal-2881.png', 'Normal-261.png', 'Lung_Opacity-1105.png', 'COVID-1569.png', 'COVID-26.png', 'Normal-3484.png', 'Lung_Opacity-2823.png', 'Normal-394.png', 'Lung_Opacity-549.png', 'COVID-23.png', 'COVID-1553.png', 'Normal-801.png', 'Lung_Opacity-3373.png', 'COVID-458.png', 'Normal-6484.png', 'Lung_Opacity-5282.png', 'Normal-421.png', 'COVID-1799.png', 'Lung_Opacity-2913.png', 'Lung_Opacity-5627.png', 'COVID-1309.png', 'Lung_Opacity-5285.png', 'Normal-8568.png', 'COVID-1701.png', 'Normal-881.png', 'Lung_Opacity-2511.png', 'COVID-1351.png', 'COVID-3304.png', 'COVID-967.png', 'Normal-1058.png', 'Lung_Opacity-2120.png', 'COVID-300.png', 'Lung_Opacity-3326.png', 'COVID-1650.png', 'COVID-1876.png', 'Normal-2642.png', 'Normal-215.png', 'COVID-1833.png', 'COVID-455.png', 'Normal-5746.png', 'COVID-1881.png', 'COVID-1435.png', 'Lung_Opacity-4609.png', 'Normal-214.png', 'COVID-1545.png', 'COVID-1079.png', 'Lung_Opacity-3614.png', 'Lung_Opacity-707.png', 'Lung_Opacity-4461.png', 'COVID-1496.png', 'COVID-707.png', 'Normal-1284.png', 'COVID-1722.png', 'COVID-184.png', 'COVID-450.png', 'COVID-2803.png', 'Normal-7517.png', 'Lung_Opacity-2872.png', 'COVID-1500.png', 'Normal-613.png', 'COVID-115.png', 'Lung_Opacity-2004.png', 'COVID-461.png', 'Normal-1271.png', 'COVID-1521.png', 'COVID-3114.png', 'COVID-2122.png', 'COVID-1943.png', 'Lung_Opacity-1771.png', 'COVID-1076.png', 'Lung_Opacity-1793.png', 'Lung_Opacity-4761.png', 'Normal-2857.png', 'COVID-1825.png', 'Normal-594.png', 'Normal-7267.png', 'Lung_Opacity-2915.png', 'COVID-1508.png', 'COVID-479.png', 'COVID-1461.png', 'Normal-77.png', 'COVID-2544.png', 'Lung_Opacity-4225.png', 'Lung_Opacity-2815.png', 'COVID-1626.png', 'COVID-964.png', 'COVID-2906.png', 'Normal-1105.png', 'COVID-320.png', 'Lung_Opacity-5648.png', 'COVID-2179.png', 'Normal-1288.png', 'COVID-1393.png', 'COVID-481.png', 'Normal-6345.png', 'COVID-1237.png', 'Lung_Opacity-637.png', 'Normal-1119.png', 'Lung_Opacity-3776.png', 'Lung_Opacity-1316.png', 'COVID-1530.png', 'Normal-962.png', 'COVID-622.png', 'COVID-1644.png', 'COVID-2664.png', 'Normal-6316.png', 'Lung_Opacity-3510.png', 'Lung_Opacity-602.png', 'COVID-289.png', 'COVID-465.png', 'Normal-650.png', 'COVID-546.png', 'COVID-529.png', 'COVID-2555.png', 'COVID-1891.png', 'COVID-2930.png', 'Lung_Opacity-1410.png', 'Normal-1235.png', 'Normal-1063.png', 'Lung_Opacity-4969.png', 'Lung_Opacity-5160.png', 'Lung_Opacity-5970.png', 'Normal-2247.png', 'Normal-5218.png', 'COVID-1554.png', 'COVID-2472.png', 'Normal-10190.png', 'COVID-1741.png', 'COVID-1497.png', 'COVID-1325.png', 'Lung_Opacity-466.png', 'COVID-92.png', 'Normal-4009.png', 'Normal-293.png', 'Normal-1933.png', 'COVID-291.png', 'COVID-1790.png', 'Lung_Opacity-5765.png', 'Lung_Opacity-994.png', 'Normal-4142.png', 'COVID-1797.png', 'Lung_Opacity-4320.png', 'Normal-238.png', 'COVID-20.png', 'COVID-1081.png', 'COVID-4.png', 'COVID-1690.png', 'Lung_Opacity-2614.png', 'COVID-345.png', 'Lung_Opacity-1228.png', 'Normal-4225.png', 'COVID-1674.png', 'Normal-767.png', 'Normal-3619.png', 'COVID-2539.png', 'Lung_Opacity-4459.png', 'COVID-40.png', 'Normal-994.png', 'Normal-9160.png', 'Normal-7771.png', 'COVID-659.png', 'Normal-480.png', 'COVID-1839.png', 'Lung_Opacity-1242.png', 'Normal-8357.png', 'COVID-1117.png', 'COVID-2121.png', 'COVID-1574.png', 'Lung_Opacity-873.png', 'Lung_Opacity-2076.png', 'COVID-2217.png', 'COVID-123.png', 'Normal-972.png', 'Lung_Opacity-81.png', 'COVID-1273.png', 'Lung_Opacity-1135.png', 'Normal-1456.png', 'Normal-4745.png', 'Lung_Opacity-3305.png', 'COVID-1488.png', 'Lung_Opacity-1981.png', 'Normal-257.png', 'COVID-3372.png', 'COVID-2166.png', 'Lung_Opacity-3965.png', 'Lung_Opacity-4087.png', 'Normal-583.png', 'COVID-442.png', 'COVID-22.png', 'COVID-1444.png', 'COVID-1453.png', 'COVID-741.png', 'Lung_Opacity-2578.png', 'COVID-1539.png', 'COVID-2373.png', 'Normal-436.png', 'Lung_Opacity-2450.png', 'Normal-7977.png', 'Normal-3629.png', 'Normal-6196.png', 'Normal-6088.png', 'Normal-2746.png', 'COVID-354.png', 'Lung_Opacity-213.png', 'COVID-1844.png', 'Normal-498.png', 'COVID-1401.png', 'Lung_Opacity-1827.png', 'Normal-3857.png', 'Lung_Opacity-5067.png', 'Normal-4427.png', 'COVID-2358.png', 'Lung_Opacity-690.png', 'Lung_Opacity-3644.png', 'COVID-3019.png', 'Normal-582.png', 'COVID-1624.png', 'Lung_Opacity-2458.png', 'COVID-207.png', 'Lung_Opacity-658.png', 'COVID-438.png', 'Lung_Opacity-755.png', 'Normal-438.png', 'Lung_Opacity-4261.png', 'COVID-970.png', 'Lung_Opacity-3820.png', 'COVID-1120.png', 'Lung_Opacity-4053.png', 'COVID-1843.png', 'COVID-3255.png', 'COVID-1779.png', 'Lung_Opacity-1329.png', 'Normal-8239.png', 'COVID-3419.png', 'COVID-1324.png', 'COVID-1801.png', 'Lung_Opacity-2564.png', 'Normal-1127.png', 'Normal-1935.png', 'COVID-2814.png', 'COVID-3394.png', 'Lung_Opacity-3729.png', 'Normal-1841.png', 'Lung_Opacity-3278.png', 'Normal-1339.png', 'COVID-102.png', 'COVID-649.png', 'COVID-2327.png', 'COVID-2413.png', 'Lung_Opacity-913.png', 'COVID-2096.png', 'COVID-2972.png', 'COVID-1762.png', 'Normal-603.png', 'Normal-1250.png', 'Normal-2221.png', 'COVID-3239.png', 'Normal-3924.png', 'Lung_Opacity-5689.png', 'Normal-7601.png', 'Normal-1030.png', 'Lung_Opacity-3467.png', 'Normal-1037.png', 'COVID-1319.png', 'COVID-1387.png', 'Lung_Opacity-5068.png', 'COVID-1235.png', 'Lung_Opacity-2827.png', 'COVID-999.png', 'Lung_Opacity-3176.png', 'Normal-8436.png', 'Lung_Opacity-3332.png', 'Lung_Opacity-1966.png', 'Normal-899.png', 'Lung_Opacity-3928.png', 'Normal-551.png', 'Lung_Opacity-4475.png', 'Lung_Opacity-2620.png', 'COVID-2656.png', 'COVID-1533.png', 'Normal-6822.png', 'Normal-1376.png', 'Lung_Opacity-4922.png', 'Normal-2121.png', 'Lung_Opacity-4412.png', 'Normal-5200.png', 'COVID-1459.png', 'COVID-1219.png', 'Normal-7223.png', 'COVID-414.png', 'Normal-507.png', 'Normal-3121.png', 'COVID-1609.png', 'COVID-1066.png', 'Lung_Opacity-5810.png', 'Normal-6172.png', 'Lung_Opacity-2464.png', 'Lung_Opacity-4500.png', 'Normal-391.png', 'COVID-338.png', 'Lung_Opacity-5504.png', 'Lung_Opacity-5217.png', 'Lung_Opacity-2773.png', 'COVID-511.png', 'Lung_Opacity-2810.png', 'Normal-7211.png', 'Normal-7861.png', 'Normal-418.png', 'Lung_Opacity-5646.png', 'COVID-121.png', 'COVID-1321.png', 'COVID-318.png', 'Lung_Opacity-3199.png', 'COVID-1841.png', 'COVID-1329.png', 'COVID-456.png', 'COVID-1185.png', 'Normal-5986.png', 'Lung_Opacity-5938.png', 'Normal-572.png', 'Normal-5964.png', 'Normal-2313.png', 'COVID-1802.png', 'Normal-6115.png', 'Normal-6711.png', 'Normal-1286.png', 'Normal-9751.png', 'Lung_Opacity-1238.png', 'Normal-3328.png', 'Lung_Opacity-1486.png', 'Lung_Opacity-860.png', 'COVID-1985.png', 'COVID-2687.png', 'Lung_Opacity-2974.png', 'COVID-81.png', 'Normal-155.png', 'Lung_Opacity-3671.png', 'Lung_Opacity-3215.png', 'Normal-7047.png', 'Lung_Opacity-4312.png', 'Lung_Opacity-2963.png', 'COVID-2468.png', 'Lung_Opacity-603.png', 'COVID-558.png', 'Lung_Opacity-3325.png', 'Normal-9535.png', 'COVID-1752.png', 'Normal-2437.png', 'COVID-357.png', 'COVID-1450.png', 'Normal-295.png', 'Lung_Opacity-3322.png', 'Normal-5121.png', 'COVID-350.png', 'Normal-2192.png', 'COVID-2173.png', 'COVID-3306.png', 'COVID-2986.png', 'Lung_Opacity-2707.png', 'Normal-8433.png', 'COVID-2613.png', 'Normal-1333.png', 'Normal-8920.png', 'COVID-3384.png', 'COVID-1265.png', 'Normal-735.png', 'Lung_Opacity-4190.png', 'COVID-2450.png', 'Normal-9237.png', 'Lung_Opacity-4569.png', 'COVID-278.png', 'Normal-3975.png', 'Normal-152.png', 'Lung_Opacity-5155.png', 'COVID-2617.png', 'Lung_Opacity-639.png', 'Lung_Opacity-1964.png', 'Lung_Opacity-1895.png', 'COVID-1210.png', 'COVID-1628.png', 'COVID-731.png', 'Lung_Opacity-1766.png', 'Normal-8797.png', 'COVID-584.png', 'Lung_Opacity-1340.png', 'Normal-3460.png', 'Normal-647.png', 'COVID-1596.png', 'Lung_Opacity-3619.png', 'COVID-3265.png', 'COVID-1267.png', 'Lung_Opacity-5836.png', 'Normal-357.png', 'COVID-370.png', 'Normal-6207.png', 'Normal-1991.png', 'Normal-262.png', 'COVID-2876.png', 'Lung_Opacity-4323.png', 'COVID-804.png', 'COVID-3074.png', 'Lung_Opacity-5498.png', 'Lung_Opacity-5568.png', 'Lung_Opacity-258.png', 'Normal-8563.png', 'COVID-1060.png', 'COVID-312.png', 'COVID-2608.png', 'Normal-1077.png', 'Lung_Opacity-5573.png', 'Normal-5185.png', 'Normal-9754.png', 'Normal-602.png', 'COVID-1663.png', 'Lung_Opacity-561.png', 'Lung_Opacity-2410.png', 'Lung_Opacity-2755.png', 'Lung_Opacity-5342.png', 'Normal-502.png', 'COVID-1246.png', 'Lung_Opacity-3732.png', 'COVID-1136.png', 'Lung_Opacity-5472.png', 'COVID-1817.png', 'Normal-6474.png', 'COVID-1417.png', 'Normal-453.png', 'COVID-3385.png', 'Normal-4776.png', 'COVID-446.png', 'COVID-1423.png', 'COVID-3476.png', 'Lung_Opacity-3290.png', 'Normal-2338.png', 'Lung_Opacity-1893.png', 'Normal-8921.png', 'Lung_Opacity-836.png', 'COVID-1713.png', 'COVID-1592.png', 'Normal-3627.png', 'COVID-281.png', 'Lung_Opacity-597.png', 'Normal-838.png', 'Lung_Opacity-2985.png', 'Normal-6862.png', 'Normal-509.png', 'COVID-1473.png', 'Lung_Opacity-1252.png', 'Lung_Opacity-4572.png', 'Normal-960.png', 'COVID-3124.png', 'COVID-2837.png', 'Normal-5996.png', 'COVID-2107.png', 'Lung_Opacity-4826.png', 'Lung_Opacity-1139.png', 'Normal-655.png', 'COVID-3353.png', 'Lung_Opacity-1971.png', 'COVID-1258.png', 'COVID-2666.png', 'Lung_Opacity-3037.png', 'COVID-2003.png', 'Lung_Opacity-2190.png', 'COVID-358.png', 'Normal-7980.png', 'COVID-1221.png', 'COVID-2967.png', 'COVID-1502.png', 'Normal-522.png', 'COVID-371.png', 'Lung_Opacity-879.png', 'COVID-1811.png', 'Normal-9844.png', 'COVID-466.png', 'Normal-8978.png', 'COVID-3209.png', 'COVID-1750.png', 'Normal-9509.png', 'COVID-1239.png', 'Lung_Opacity-4238.png', 'Normal-1209.png', 'Normal-2264.png', 'COVID-2782.png', 'Lung_Opacity-5330.png', 'Normal-1368.png', 'Lung_Opacity-2129.png', 'Normal-9991.png', 'Normal-2999.png', 'Lung_Opacity-5939.png', 'COVID-1482.png', 'Normal-3195.png', 'Lung_Opacity-3990.png', 'COVID-1455.png', 'COVID-666.png', 'Normal-3153.png', 'Normal-2942.png', 'COVID-946.png', 'Lung_Opacity-2093.png', 'Lung_Opacity-486.png', 'COVID-1581.png', 'Normal-2598.png', 'COVID-3339.png', 'Normal-411.png', 'Lung_Opacity-1625.png', 'Lung_Opacity-3808.png', 'COVID-2631.png', 'Normal-4556.png', 'Normal-7921.png', 'COVID-221.png', 'COVID-966.png', 'COVID-2.png', 'Lung_Opacity-238.png', 'Normal-342.png', 'Lung_Opacity-3869.png', 'COVID-1157.png', 'Normal-23.png', 'COVID-1040.png', 'COVID-3116.png', 'COVID-1786.png', 'COVID-1889.png', 'Lung_Opacity-278.png', 'Lung_Opacity-5537.png', 'Normal-1265.png', 'COVID-889.png', 'Normal-6293.png', 'Normal-7398.png', 'Lung_Opacity-256.png', 'COVID-3389.png', 'Lung_Opacity-4519.png', 'COVID-369.png', 'Normal-547.png', 'COVID-1407.png', 'Lung_Opacity-774.png', 'Lung_Opacity-3345.png', 'Normal-1021.png', 'Lung_Opacity-4127.png', 'COVID-445.png', 'COVID-597.png', 'Normal-6685.png', 'COVID-403.png', 'COVID-2278.png', 'Normal-9426.png', 'COVID-2969.png', 'Lung_Opacity-2380.png', 'Lung_Opacity-5858.png', 'Normal-3182.png', 'Normal-981.png', 'Lung_Opacity-2452.png', 'COVID-2455.png', 'COVID-16.png', 'COVID-1242.png', 'Lung_Opacity-984.png', 'COVID-1694.png', 'COVID-3347.png', 'Lung_Opacity-521.png', 'Normal-9497.png', 'Normal-4905.png', 'COVID-996.png', 'COVID-1438.png', 'COVID-2710.png', 'Lung_Opacity-3886.png', 'Normal-651.png', 'Lung_Opacity-2575.png', 'COVID-201.png', 'COVID-3018.png', 'Normal-5556.png', 'Normal-918.png', 'Normal-3037.png', 'Lung_Opacity-5298.png', 'Lung_Opacity-1806.png', 'Normal-6099.png', 'COVID-1568.png', 'Lung_Opacity-5081.png', 'COVID-2403.png', 'COVID-589.png', 'Lung_Opacity-2846.png', 'Lung_Opacity-892.png', 'COVID-947.png', 'COVID-187.png', 'COVID-3391.png', 'Normal-1278.png', 'Lung_Opacity-4645.png', 'Normal-8540.png', 'COVID-1394.png', 'COVID-47.png', 'COVID-940.png', 'COVID-719.png', 'Lung_Opacity-3838.png', 'Normal-744.png', 'Normal-8116.png', 'COVID-1333.png', 'Lung_Opacity-5351.png', 'Normal-2688.png', 'COVID-506.png', 'COVID-1816.png', 'COVID-2639.png', 'COVID-1990.png', 'Normal-7719.png', 'Normal-1104.png', 'COVID-1090.png', 'COVID-2983.png', 'Lung_Opacity-5318.png', 'COVID-1271.png', 'Normal-2663.png', 'Normal-2554.png', 'Normal-7006.png', 'Lung_Opacity-1560.png', 'COVID-2126.png', 'Normal-2216.png', 'Lung_Opacity-4952.png', 'Lung_Opacity-3336.png', 'Lung_Opacity-884.png', 'Lung_Opacity-5600.png', 'Lung_Opacity-3575.png', 'COVID-3363.png', 'COVID-1008.png', 'Normal-6214.png', 'Normal-487.png', 'Normal-5764.png', 'COVID-1605.png', 'COVID-1903.png', 'COVID-2709.png', 'Lung_Opacity-4350.png', 'Lung_Opacity-903.png', 'COVID-1688.png', 'Normal-2678.png', 'Normal-1080.png', 'Lung_Opacity-921.png', 'Normal-2848.png', 'COVID-1963.png', 'COVID-1770.png', 'COVID-439.png', 'Lung_Opacity-1937.png', 'Lung_Opacity-5372.png', 'Normal-6672.png', 'COVID-2832.png', 'COVID-1481.png', 'Normal-1118.png', 'Normal-4210.png', 'Lung_Opacity-4465.png', 'Lung_Opacity-1820.png', 'Normal-3754.png', 'COVID-1746.png', 'Normal-8308.png', 'COVID-1283.png', 'Lung_Opacity-93.png', 'COVID-1068.png', 'Normal-320.png', 'Lung_Opacity-4677.png', 'COVID-128.png', 'COVID-1772.png', 'Normal-4184.png', 'COVID-1908.png', 'Lung_Opacity-2107.png', 'Lung_Opacity-4628.png', 'Normal-188.png', 'Lung_Opacity-3389.png', 'Lung_Opacity-2547.png', 'Normal-3937.png', 'COVID-686.png', 'COVID-3044.png', 'Lung_Opacity-1595.png', 'Normal-912.png', 'COVID-351.png', 'Lung_Opacity-1493.png', 'COVID-1368.png', 'Lung_Opacity-3234.png', 'Normal-264.png', 'COVID-2042.png', 'COVID-1847.png', 'COVID-3441.png', 'COVID-2125.png', 'COVID-13.png', 'COVID-958.png', 'COVID-1571.png', 'Normal-2841.png', 'Lung_Opacity-2005.png', 'Normal-2213.png', 'COVID-2136.png', 'COVID-2708.png', 'Lung_Opacity-3007.png', 'Normal-4176.png', 'Normal-716.png', 'COVID-2212.png', 'Normal-434.png', 'Lung_Opacity-3835.png', 'Normal-7270.png', 'Normal-8412.png', 'COVID-1652.png', 'Normal-5196.png', 'Lung_Opacity-4100.png', 'Normal-815.png', 'Lung_Opacity-4253.png', 'Normal-6705.png', 'COVID-1112.png', 'Lung_Opacity-471.png', 'COVID-975.png', 'Lung_Opacity-5514.png', 'COVID-117.png', 'Normal-9687.png', 'Normal-1903.png', 'Lung_Opacity-5801.png', 'COVID-1580.png', 'COVID-1608.png', 'Lung_Opacity-4083.png', 'Normal-1103.png', 'COVID-1703.png', 'Lung_Opacity-1272.png', 'Lung_Opacity-4563.png', 'Lung_Opacity-262.png', 'Normal-7264.png', 'Lung_Opacity-1544.png', 'Lung_Opacity-346.png', 'Lung_Opacity-2375.png', 'COVID-1184.png', 'Normal-4618.png', 'COVID-1632.png', 'Lung_Opacity-3805.png', 'Normal-1172.png', 'COVID-744.png', 'Lung_Opacity-5109.png', 'COVID-3282.png', 'Normal-5815.png', 'Normal-306.png', 'Normal-8017.png', 'Lung_Opacity-279.png', 'COVID-205.png', 'Lung_Opacity-5048.png', 'Normal-3806.png', 'COVID-847.png', 'Normal-1039.png', 'Normal-469.png', 'COVID-203.png', 'Lung_Opacity-5949.png', 'COVID-2028.png', 'Lung_Opacity-2741.png', 'COVID-2038.png', 'Normal-5042.png', 'COVID-730.png', 'Lung_Opacity-4048.png', 'Normal-1033.png', 'Normal-2867.png', 'COVID-1350.png', 'Normal-6146.png', 'Lung_Opacity-765.png', 'Lung_Opacity-981.png', 'Normal-2322.png', 'Lung_Opacity-3899.png', 'Lung_Opacity-2486.png', 'COVID-541.png', 'Lung_Opacity-1491.png', 'COVID-1803.png', 'Lung_Opacity-4400.png', 'Normal-648.png', 'Lung_Opacity-3624.png', 'COVID-2355.png', 'Normal-1716.png', 'Normal-6055.png', 'COVID-1575.png', 'Normal-9133.png', 'Lung_Opacity-2314.png', 'Lung_Opacity-2078.png', 'COVID-605.png', 'COVID-1737.png', 'Normal-886.png', 'Lung_Opacity-1182.png', 'COVID-1244.png', 'Normal-656.png', 'Lung_Opacity-2086.png', 'Lung_Opacity-5008.png', 'COVID-3091.png', 'COVID-1108.png', 'Normal-9667.png', 'COVID-1658.png', 'Lung_Opacity-2366.png', 'COVID-2230.png', 'Lung_Opacity-142.png', 'Lung_Opacity-4077.png', 'Lung_Opacity-5094.png', 'Normal-1727.png', 'Normal-279.png', 'COVID-1601.png', 'Lung_Opacity-1816.png', 'Normal-2710.png', 'Normal-493.png', 'Lung_Opacity-2355.png', 'Lung_Opacity-3274.png', 'Lung_Opacity-3254.png', 'COVID-1527.png', 'COVID-2667.png', 'Lung_Opacity-4392.png', 'COVID-672.png', 'Lung_Opacity-3391.png', 'Normal-701.png', 'COVID-1380.png', 'Lung_Opacity-5572.png', 'Lung_Opacity-1555.png', 'COVID-1683.png', 'COVID-2477.png', 'Normal-1375.png', 'Lung_Opacity-1671.png', 'COVID-1145.png', 'Normal-5036.png', 'COVID-17.png', 'Lung_Opacity-5515.png', 'Normal-3716.png', 'Lung_Opacity-475.png', 'COVID-1300.png', 'COVID-2698.png', 'Normal-216.png', 'Normal-9095.png', 'COVID-80.png', 'Normal-5800.png', 'COVID-1105.png', 'Lung_Opacity-3515.png', 'Normal-5204.png', 'COVID-1182.png', 'Lung_Opacity-4287.png', 'Normal-7080.png', 'Lung_Opacity-3767.png', 'Lung_Opacity-3324.png', 'Lung_Opacity-1107.png', 'Normal-821.png', 'COVID-1827.png', 'Lung_Opacity-2775.png', 'Normal-5842.png', 'Normal-8407.png', 'COVID-2106.png', 'Lung_Opacity-5954.png', 'Normal-4489.png', 'COVID-1636.png', 'Normal-324.png', 'Lung_Opacity-5665.png', 'COVID-373.png', 'COVID-1620.png', 'Lung_Opacity-1736.png', 'Lung_Opacity-5530.png', 'COVID-1153.png'] 55.69072246551514\n"
     ]
    }
   ],
   "source": [
    "selected_image_names = list(image_names.iloc[selected_image_idxs])\n",
    "print(selected_image_names, time.time() - start_time)"
   ]
  },
  {
   "cell_type": "code",
   "execution_count": 7,
   "metadata": {},
   "outputs": [
    {
     "name": "stdout",
     "output_type": "stream",
     "text": [
      "     selected_image_indices     value   selected_image_names\n",
      "0                      8999  0.693147  Lung_Opacity-3448.png\n",
      "1                      4675  0.434787         COVID-1487.png\n",
      "2                       356  0.328253        Normal-1329.png\n",
      "3                      5274  0.269756          COVID-698.png\n",
      "4                      5943  0.229148          COVID-447.png\n",
      "..                      ...       ...                    ...\n",
      "895                    3403  0.033004          COVID-373.png\n",
      "896                    4575  0.032996         COVID-1620.png\n",
      "897                    7816   0.03299  Lung_Opacity-1736.png\n",
      "898                    6029  0.032981  Lung_Opacity-5530.png\n",
      "899                    4733  0.032977         COVID-1153.png\n",
      "\n",
      "[900 rows x 3 columns]\n"
     ]
    }
   ],
   "source": [
    "greedyList['selected_image_names'] = selected_image_names\n",
    "print(greedyList)"
   ]
  },
  {
   "cell_type": "code",
   "execution_count": 8,
   "metadata": {},
   "outputs": [
    {
     "name": "stdout",
     "output_type": "stream",
     "text": [
      "COVID-745.png\n",
      "Lung_Opacity-2842.png\n",
      "Normal-8605.png\n"
     ]
    }
   ],
   "source": [
    "paths = ['/home/anvay/Desktop/fedMLMedMnist/COVID-19_Radiography_Dataset/COVID/images', \n",
    "         '/home/anvay/Desktop/fedMLMedMnist/COVID-19_Radiography_Dataset/Lung_Opacity/images',\n",
    "         '/home/anvay/Desktop/fedMLMedMnist/COVID-19_Radiography_Dataset/Normal/images']\n",
    "\n",
    "import os\n",
    "from PIL import Image\n",
    "\n",
    "images = {}\n",
    "\n",
    "for path in paths:\n",
    "    img_files = os.listdir(path)\n",
    "    print(img_files[0])\n",
    "    num_images = len(img_files)\n",
    "    for i in range(num_images):\n",
    "        img_path = os.path.join(path, img_files[i])\n",
    "        img = Image.open(img_path)\n",
    "        images[img_files[i]] = np.array(img)\n",
    "        img.close()\n"
   ]
  },
  {
   "cell_type": "code",
   "execution_count": 9,
   "metadata": {},
   "outputs": [],
   "source": [
    "selected_images = []\n",
    "for name in selected_image_names:\n",
    "    selected_images += [images[name]]\n"
   ]
  },
  {
   "cell_type": "code",
   "execution_count": 10,
   "metadata": {},
   "outputs": [
    {
     "name": "stdout",
     "output_type": "stream",
     "text": [
      "     selected_image_indices     value   selected_image_names   \n",
      "0                      8999  0.693147  Lung_Opacity-3448.png  \\\n",
      "1                      4675  0.434787         COVID-1487.png   \n",
      "2                       356  0.328253        Normal-1329.png   \n",
      "3                      5274  0.269756          COVID-698.png   \n",
      "4                      5943  0.229148          COVID-447.png   \n",
      "..                      ...       ...                    ...   \n",
      "895                    3403  0.033004          COVID-373.png   \n",
      "896                    4575  0.032996         COVID-1620.png   \n",
      "897                    7816   0.03299  Lung_Opacity-1736.png   \n",
      "898                    6029  0.032981  Lung_Opacity-5530.png   \n",
      "899                    4733  0.032977         COVID-1153.png   \n",
      "\n",
      "                                       selected_images  \n",
      "0    [[9, 13, 14, 14, 13, 13, 12, 11, 11, 11, 11, 1...  \n",
      "1    [[0, 0, 0, 0, 1, 1, 1, 2, 2, 3, 2, 1, 2, 2, 2,...  \n",
      "2    [[0, 0, 0, 0, 0, 0, 0, 0, 0, 0, 0, 0, 0, 0, 0,...  \n",
      "3    [[255, 255, 252, 250, 252, 253, 251, 255, 255,...  \n",
      "4    [[88, 45, 37, 40, 38, 37, 37, 36, 37, 36, 35, ...  \n",
      "..                                                 ...  \n",
      "895  [[0, 0, 0, 0, 0, 0, 0, 0, 0, 0, 0, 0, 0, 0, 0,...  \n",
      "896  [[50, 45, 39, 37, 36, 35, 36, 36, 35, 36, 36, ...  \n",
      "897  [[2, 2, 2, 2, 2, 2, 2, 3, 2, 2, 2, 2, 2, 2, 2,...  \n",
      "898  [[222, 222, 222, 221, 220, 220, 220, 219, 219,...  \n",
      "899  [[35, 36, 36, 37, 38, 38, 38, 37, 36, 36, 38, ...  \n",
      "\n",
      "[900 rows x 4 columns]\n"
     ]
    }
   ],
   "source": [
    "greedyList['selected_images'] = selected_images\n",
    "print(greedyList)"
   ]
  },
  {
   "cell_type": "code",
   "execution_count": 11,
   "metadata": {},
   "outputs": [],
   "source": [
    "greedyList.to_csv('ten_percent_subset_9000_logdet.csv')"
   ]
  },
  {
   "cell_type": "code",
   "execution_count": 12,
   "metadata": {},
   "outputs": [
    {
     "name": "stdout",
     "output_type": "stream",
     "text": [
      "{'Normal': 273, 'COVID': 367, 'Lung_Opacity': 260}\n"
     ]
    }
   ],
   "source": [
    "count = {'Normal': 0, 'COVID': 0, 'Lung_Opacity': 0}\n",
    "for index, row in greedyList.iterrows():\n",
    "    if row['selected_image_names'][0] == 'L':\n",
    "        count['Lung_Opacity'] += 1\n",
    "    elif row['selected_image_names'][0] == 'N':\n",
    "        count['Normal'] += 1\n",
    "    else:\n",
    "        count['COVID'] += 1\n",
    "\n",
    "print(count)"
   ]
  }
 ],
 "metadata": {
  "kernelspec": {
   "display_name": "Python 3",
   "language": "python",
   "name": "python3"
  },
  "language_info": {
   "codemirror_mode": {
    "name": "ipython",
    "version": 3
   },
   "file_extension": ".py",
   "mimetype": "text/x-python",
   "name": "python",
   "nbconvert_exporter": "python",
   "pygments_lexer": "ipython3",
   "version": "3.10.6"
  },
  "orig_nbformat": 4
 },
 "nbformat": 4,
 "nbformat_minor": 2
}
